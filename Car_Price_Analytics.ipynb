{
  "nbformat": 4,
  "nbformat_minor": 0,
  "metadata": {
    "colab": {
      "name": "Car Price Analytics.ipynb",
      "provenance": [],
      "collapsed_sections": [],
      "authorship_tag": "ABX9TyO/n7eYLQnrD2DXfK/Dgzly",
      "include_colab_link": true
    },
    "kernelspec": {
      "name": "python3",
      "display_name": "Python 3"
    }
  },
  "cells": [
    {
      "cell_type": "markdown",
      "metadata": {
        "id": "view-in-github",
        "colab_type": "text"
      },
      "source": [
        "<a href=\"https://colab.research.google.com/github/ahorvath008/Data-Science/blob/master/Car_Price_Analytics.ipynb\" target=\"_parent\"><img src=\"https://colab.research.google.com/assets/colab-badge.svg\" alt=\"Open In Colab\"/></a>"
      ]
    },
    {
      "cell_type": "markdown",
      "metadata": {
        "id": "Uvs5EOz9AO5J"
      },
      "source": [
        "**Purpose:** The purpose of the following analysis is to analyse variables impacting the purchase price of cars. It also provides a model to predict the price of cars. \r\n",
        "\r\n",
        "**Data:** The data source is the car sales database from the US (from Kaggle) "
      ]
    },
    {
      "cell_type": "markdown",
      "metadata": {
        "id": "aPigniGPFzi3"
      },
      "source": [
        "<h2>Table of Contents</h2>\r\n",
        "\r\n",
        "<div class=\"alert alert-block alert-info\" style=\"margin-top: 20px\">\r\n",
        "<ol>\r\n",
        "    <li><a href=\"#data_acquisition\">Data import and data wrangling</a>\r\n",
        "    <li><a href=\"#basic_insight\">Data characteristics</a></li>\r\n",
        "    <li><a href=\"\"#basic_insight\"> Exploratory Data Analysis (EDA) </a></li>\r\n",
        "    <li><a href=\"#basic_insight\">Model building and regression</a></li>\r\n",
        "    <li><a href=\"#basic_insight\">Data visualisations and graphs</a></li>\r\n",
        " </ol>\r\n",
        "\r\n",
        "</div>\r\n",
        "<hr>"
      ]
    },
    {
      "cell_type": "code",
      "metadata": {
        "id": "z_2pynqn9ZOO"
      },
      "source": [
        "import pandas as pd\r\n",
        "import numpy as np\r\n",
        "%matplotlib inline\r\n",
        "import matplotlib as plt\r\n",
        "from matplotlib import pyplot\r\n",
        "import seaborn as sns\r\n",
        "from scipy.stats import pearsonr\r\n",
        "from scipy import stats"
      ],
      "execution_count": null,
      "outputs": []
    },
    {
      "cell_type": "code",
      "metadata": {
        "id": "jqauxtDSCBkY"
      },
      "source": [
        "# Read the online car price file \r\n",
        "other_path = \"https://cf-courses-data.s3.us.cloud-object-storage.appdomain.cloud/IBMDeveloperSkillsNetwork-DA0101EN-SkillsNetwork/labs/Data%20files/auto.csv\"\r\n",
        "df = pd.read_csv(other_path, header=None)"
      ],
      "execution_count": null,
      "outputs": []
    },
    {
      "cell_type": "code",
      "metadata": {
        "id": "rm7s5CD-MiFl"
      },
      "source": [
        "#1. Data import and data wrangling\r\n",
        "# Get an overview of the dataframe columns\r\n",
        "df.head(5)"
      ],
      "execution_count": null,
      "outputs": []
    },
    {
      "cell_type": "code",
      "metadata": {
        "id": "sma86Z2O0QXw"
      },
      "source": [
        "# create headers list to make the data more readable and easier to understand\r\n",
        "headers = [\"symboling\",\"normalized-losses\",\"make\",\"fuel-type\",\"aspiration\", \"num-of-doors\",\"body-style\",\r\n",
        "         \"drive-wheels\",\"engine-location\",\"wheel-base\", \"length\",\"width\",\"height\",\"curb-weight\",\"engine-type\",\r\n",
        "         \"num-of-cylinders\", \"engine-size\",\"fuel-system\",\"bore\",\"stroke\",\"compression-ratio\",\"horsepower\",\r\n",
        "         \"peak-rpm\",\"city-mpg\",\"highway-mpg\",\"price\"]\r\n",
        "print(\"headers\\n\", headers)\r\n",
        "df.columns = headers"
      ],
      "execution_count": null,
      "outputs": []
    },
    {
      "cell_type": "code",
      "metadata": {
        "id": "e4eJiPNw8Dh4"
      },
      "source": [
        "# The data for objects (i.e. non-numeric values) can also be obtained.\r\n",
        "df.describe()"
      ],
      "execution_count": null,
      "outputs": []
    },
    {
      "cell_type": "code",
      "metadata": {
        "id": "06a1ZgflfBKw"
      },
      "source": [
        "# Rename the \"symboling\" column to \"insurance risk\" to make the data more user-friendly\r\n",
        "df.rename(columns={'symboling':'insurance_risk'}, inplace=True)"
      ],
      "execution_count": null,
      "outputs": []
    },
    {
      "cell_type": "code",
      "metadata": {
        "id": "6GizyhmCHNx1"
      },
      "source": [
        "#Need to drop the height column as we do not use this for this analysis\r\n",
        "df.drop([\"height\"],axis=1,inplace=True)\r\n",
        "df.describe()"
      ],
      "execution_count": null,
      "outputs": []
    },
    {
      "cell_type": "code",
      "metadata": {
        "id": "r-w_5LwFITzp"
      },
      "source": [
        "#2. Data characteristics\r\n",
        "#Need to check how many missing values we have for prices\r\n",
        "print(\"Number of missing values for prices\", df['price'].isnull().sum())"
      ],
      "execution_count": null,
      "outputs": []
    },
    {
      "cell_type": "code",
      "metadata": {
        "id": "SW7VAR0gkdzx"
      },
      "source": [
        "# Need to replace the ? in the files so that these can then later be dropped and check that this worked\r\n",
        "df=df.replace('?',np.NaN)\r\n",
        "df.info()"
      ],
      "execution_count": null,
      "outputs": []
    },
    {
      "cell_type": "code",
      "metadata": {
        "id": "GlJoExgCkED8"
      },
      "source": [
        "# The price column is an object and should be an int variable instead.  We need to convert and then check the dataframe info\r\n",
        "df[\"price\"] = df[\"price\"].astype(\"float\")"
      ],
      "execution_count": null,
      "outputs": []
    },
    {
      "cell_type": "code",
      "metadata": {
        "id": "vUdUqpTsFh9v"
      },
      "source": [
        "# The horsepower column is an object and should be an int variable instead.  We need to convert and then check the dataframe info\r\n",
        "df[\"horsepower\"] = df[\"horsepower\"].astype(\"float\")\r\n",
        "df.info()"
      ],
      "execution_count": null,
      "outputs": []
    },
    {
      "cell_type": "code",
      "metadata": {
        "id": "uZ13Wxmuw1OU"
      },
      "source": [
        "# We replace the empty prices with the average prices\r\n",
        "avg_price = df[\"price\"].mean(axis=0)\r\n",
        "print(avg_price)\r\n",
        "df[\"price\"].replace(np.nan, avg_price, inplace=True)\r\n",
        "df.head(5)"
      ],
      "execution_count": null,
      "outputs": []
    },
    {
      "cell_type": "code",
      "metadata": {
        "id": "_NFpV7SDAZAG"
      },
      "source": [
        "# We replace the empty horsepower with the average horsepower\r\n",
        "avg_horsepower = df[\"horsepower\"].mean(axis=0)\r\n",
        "print(avg_horsepower)\r\n",
        "df[\"horsepower\"].replace(np.nan, avg_horsepower, inplace=True)"
      ],
      "execution_count": null,
      "outputs": []
    },
    {
      "cell_type": "code",
      "metadata": {
        "id": "YqmLZ9yFcuAG"
      },
      "source": [
        "# For normalized-losses, we will set these values to float. \r\n",
        "avg_norm_loss = df[\"normalized-losses\"].astype(\"float\").mean(axis=0)\r\n",
        "print(avg_norm_loss)\r\n",
        "#Now replace the Normalized Losses non-values with the Average value of the NL. \r\n",
        "df[\"normalized-losses\"].replace(np.nan, avg_norm_loss, inplace=True)\r\n",
        "df.head(5)"
      ],
      "execution_count": null,
      "outputs": []
    },
    {
      "cell_type": "code",
      "metadata": {
        "id": "LZ9gU_adWYM6"
      },
      "source": [
        "# Some of the key data needs to be normalised (divide each value by the max value of that series)\r\n",
        "df[\"length\"] = df[\"length\"]/df[\"length\"].max()\r\n",
        "df[\"width\"] = df[\"width\"]/df[\"width\"].max()"
      ],
      "execution_count": null,
      "outputs": []
    },
    {
      "cell_type": "code",
      "metadata": {
        "id": "LOmHx5VqhNHj"
      },
      "source": [
        "# Obtain statistics for one specific column, for instance price\r\n",
        "df['price'].describe() "
      ],
      "execution_count": null,
      "outputs": []
    },
    {
      "cell_type": "code",
      "metadata": {
        "id": "UlSPZR2NKXcG"
      },
      "source": [
        "# Now we can drop all the entries that do not have a price data\r\n",
        "df.dropna(subset=[\"price\"], axis=0, inplace=True)"
      ],
      "execution_count": null,
      "outputs": []
    },
    {
      "cell_type": "code",
      "metadata": {
        "id": "qeV-IQjxjKOc"
      },
      "source": [
        "# We can check the drive wheels column before we wish to group the data, so that we can identify what to group them by:\r\n",
        "df['drive-wheels'].unique()"
      ],
      "execution_count": null,
      "outputs": []
    },
    {
      "cell_type": "code",
      "metadata": {
        "id": "jy5fzfjSScWa"
      },
      "source": [
        "# Group the data and look at average price based on key characterisitcs. We need to use the groupby function, on categorical variables \r\n",
        "df_test = df[['drive-wheels', 'body-style', 'price']]\r\n",
        "df_grp = df_test.groupby(['drive-wheels', 'body-style'], as_index=False).mean()\r\n",
        "df_grp.rename(columns={'price':'average price'}, inplace=True)\r\n",
        "df_grp"
      ],
      "execution_count": null,
      "outputs": []
    },
    {
      "cell_type": "code",
      "metadata": {
        "id": "X6ZL3X35ThU9"
      },
      "source": [
        "# Using the pivot method to create a pivot table to summarise the data and fill in with 0 where there is no data. \r\n",
        "df_pivot = df_grp.pivot(index='drive-wheels', columns='body-style')\r\n",
        "df_pivot = df_pivot.fillna(0)\r\n",
        "df_pivot"
      ],
      "execution_count": null,
      "outputs": []
    },
    {
      "cell_type": "code",
      "metadata": {
        "id": "IbNFfjewbOZM"
      },
      "source": [
        "#In case we need to use a numeric value of fuel types, we create a dummy variable and dataframe to show these\r\n",
        "dummy_variable_1 = pd.get_dummies(df[\"fuel-type\"])\r\n",
        "dummy_variable_1.head()\r\n",
        "\r\n",
        "# Once done, we need to concetenate the dummy_variable df with our initial df as follows:\r\n",
        "df = pd.concat([df, dummy_variable_1], axis=1)\r\n",
        "df.head(5)"
      ],
      "execution_count": null,
      "outputs": []
    },
    {
      "cell_type": "code",
      "metadata": {
        "id": "6J2byqu0NYwp"
      },
      "source": [
        "# We perform a binning operation to show the horsepower as low/high/medium as opposed to the actual value.  \r\n",
        "\r\n",
        "bins = np.linspace(min(df[\"horsepower\"]), max(df[\"horsepower\"]), 4)  \r\n",
        "# We first create 3 bins (low/medium/high) using numpy's linspace command\r\n",
        "bins\r\n",
        "\r\n",
        "# We then create the 3 bins\r\n",
        "group_names=[\"Low\", \"Medium\", \"High\"]\r\n",
        "\r\n",
        "# We use the Cut function to assign the different horsepowers into the individual bins\r\n",
        "df['horsepower-binned'] = pd.cut(df['horsepower'], bins, labels=group_names, include_lowest=True)\r\n",
        "df[['horsepower','horsepower-binned']].head(20)\r\n",
        "df[\"horsepower-binned\"].value_counts()\r\n",
        "\r\n",
        "# Run basic statistics on the cleaned-up data.  Note the added horsepower-binned field\r\n",
        "df.head(5)"
      ],
      "execution_count": null,
      "outputs": []
    },
    {
      "cell_type": "code",
      "metadata": {
        "id": "W5DOmYG3F_hM"
      },
      "source": [
        "#3. Data Queries and Statistical Analysis\r\n",
        "#Which ones are the the most popular car makes?\r\n",
        "df['make'].value_counts()"
      ],
      "execution_count": null,
      "outputs": []
    },
    {
      "cell_type": "code",
      "metadata": {
        "id": "gLaFXtzVPaIT"
      },
      "source": [
        "#Which cars have the largest horsepower?\r\n",
        "df.sort_values(by='horsepower', ascending=False)"
      ],
      "execution_count": null,
      "outputs": []
    },
    {
      "cell_type": "code",
      "metadata": {
        "id": "AUCS4h9INxDB"
      },
      "source": [
        "#What is the breakdown of the number of cars per wheel type? This can help assess if any value may not be statistically important\r\n",
        "df['drive-wheels'].value_counts()\r\n",
        "#Convert this into a dataframe\r\n",
        "df['drive-wheels'].value_counts().to_frame()"
      ],
      "execution_count": null,
      "outputs": []
    },
    {
      "cell_type": "code",
      "metadata": {
        "id": "Sm_lCw7bHEW4"
      },
      "source": [
        "#Which variable has the largest correlation with car prices?\r\n",
        "df.corr()['price'].sort_values()"
      ],
      "execution_count": null,
      "outputs": []
    },
    {
      "cell_type": "code",
      "metadata": {
        "id": "F23bfd5rUxJS"
      },
      "source": [
        "#We can calculate the correlation stats between the variables using the following format\r\n",
        "df[['engine-size', 'horsepower']].corr()"
      ],
      "execution_count": null,
      "outputs": []
    },
    {
      "cell_type": "code",
      "metadata": {
        "id": "eJmJFg7VVAZ6"
      },
      "source": [
        "#We can calculate the correlation stats between the variables using the following format\r\n",
        "df[['highway-mpg', 'price']].corr()"
      ],
      "execution_count": null,
      "outputs": []
    },
    {
      "cell_type": "code",
      "metadata": {
        "id": "b1GmPKW2qf9l"
      },
      "source": [
        "#Correlation statistics between continuous numerical variables\r\n",
        "#1. Correlation coefficient (-1 to +1) (Pearson Coefficient)\r\n",
        "#2. Pearson Correlation Method (How confident are we in the correlation results); #p-value < 0.001 strong certainty, >0.1 no certainty\r\n",
        "pearson_coef, p_value = pearsonr(df['horsepower'],df['price'])\r\n",
        "print(pearson_coef, p_value)\r\n",
        "\r\n",
        "#As the p_value is much smaller than 0.001, we are confident that the correlation results are reliable"
      ],
      "execution_count": null,
      "outputs": []
    },
    {
      "cell_type": "code",
      "metadata": {
        "id": "SS1uxwlkRzXA"
      },
      "source": [
        "#ANOVA (Analysis of Variance) statistics (F-value and p-value) are used to check correlation between different groups of categorical \r\n",
        "#variables by testing whether there are significant differences between the means of two or more groups. \r\n",
        "#ANOVA returns two parameters: F-test score: ANOVA assumes the means of all groups are the same, calculates \r\n",
        "#how much the actual means deviate from the assumption, and reports it as the F-test score. \r\n",
        "# A larger score means there is a larger difference between the means.\r\n",
        "\r\n",
        "df_anova = df[[\"make\", \"price\"]]\r\n",
        "grouped_anova = df_anova.groupby([\"make\"])\r\n",
        "\r\n",
        "anova_results_1 = stats.f_oneway(grouped_anova.get_group(\"honda\") [\"price\"], grouped_anova.get_group(\"subaru\") [\"price\"])\r\n",
        "print(anova_results_1)\r\n",
        "# As f-score is less than 1 and p is larger than 0.5, there is no significant difference between prices\r\n",
        "\r\n",
        "anova_results_2 = stats.f_oneway(grouped_anova.get_group(\"honda\") [\"price\"], grouped_anova.get_group(\"jaguar\") [\"price\"])\r\n",
        "print(anova_results_2)\r\n",
        "# As f-score is large, there is a strong correlation, and as p is very small, the correlation is reliable. "
      ],
      "execution_count": null,
      "outputs": []
    },
    {
      "cell_type": "code",
      "metadata": {
        "colab": {
          "base_uri": "https://localhost:8080/"
        },
        "id": "eOeZXr-8Gnr8",
        "outputId": "4479998f-c5b3-4dd8-ad4f-b5b4efe838a8"
      },
      "source": [
        "#4. Model building and regression\r\n",
        "#   Simple Linear Regression (one independent variable)\r\n",
        "\r\n",
        "from sklearn.linear_model import LinearRegression \r\n",
        "#We first define a predictor and target variable\r\n",
        "lm=LinearRegression()\r\n",
        "x = df[['highway-mpg']]\r\n",
        "y = df[['price']]\r\n",
        "\r\n",
        "lm.fit(x,y)\r\n",
        "#We can then obtain a prediction\r\n",
        "#yhat = lm.predict(x)\r\n",
        "yhat = lm.predict(np.array(30).reshape(-1,1))\r\n",
        "print(\"yhat equals\", yhat)\r\n",
        "#We can view the intercept (b0)\r\n",
        "print(lm.intercept_)\r\n",
        "\r\n",
        "#We can view the slope (b1)\r\n",
        "print(lm.coef_)\r\n",
        "\r\n",
        "#We can then build our model as follows:\r\n",
        "# \"Price\" = 37470 - 789* \"highway-mpg\"\r\n",
        "\r\n",
        "#R2 score\r\n",
        "lm.score(x,y)"
      ],
      "execution_count": null,
      "outputs": [
        {
          "output_type": "stream",
          "text": [
            "yhat equals [[13799.86154571]]\n",
            "[37470.66014138]\n",
            "[[-789.02661986]]\n"
          ],
          "name": "stdout"
        },
        {
          "output_type": "execute_result",
          "data": {
            "text/plain": [
              "0.47682578947968446"
            ]
          },
          "metadata": {
            "tags": []
          },
          "execution_count": 86
        }
      ]
    },
    {
      "cell_type": "code",
      "metadata": {
        "colab": {
          "base_uri": "https://localhost:8080/"
        },
        "id": "78-ib2RhLXAu",
        "outputId": "4fc01e73-19b7-4011-aca8-59a00cdb5297"
      },
      "source": [
        "#   Multiple Linear Regression (multiple independent variables)\r\n",
        "\r\n",
        "from sklearn.linear_model import LinearRegression \r\n",
        "z = df[['horsepower', 'curb-weight', 'engine-size', 'highway-mpg']]\r\n",
        "\r\n",
        "#Train the model\r\n",
        "lm.fit(z,df['price'])\r\n",
        "\r\n",
        "#Obtain a prediction\r\n",
        "yhat = lm.predict(z)\r\n",
        "\r\n",
        "#We can view the intercept (b0)\r\n",
        "print(lm.intercept_)\r\n",
        "\r\n",
        "#We can view the slope (b1)\r\n",
        "print(lm.coef_)\r\n",
        "\r\n",
        "#We can then build our model as follows:\r\n",
        "# Price = -9239. +18.1 * \"Horsepower\" + 3.8 * \"Curb-weight\" + 101.1 * engine size - 65.1 * \"highway-mpg\"\r\n",
        "\r\n",
        "#R2 score\r\n",
        "lm.score(z,y)"
      ],
      "execution_count": null,
      "outputs": [
        {
          "output_type": "stream",
          "text": [
            "-9239.379970934518\n",
            "[ 18.12178086   3.80596513 101.121117   -65.10968116]\n"
          ],
          "name": "stdout"
        },
        {
          "output_type": "execute_result",
          "data": {
            "text/plain": [
              "0.7762109132723989"
            ]
          },
          "metadata": {
            "tags": []
          },
          "execution_count": 87
        }
      ]
    },
    {
      "cell_type": "code",
      "metadata": {
        "id": "FOonjZ_jIKr3",
        "colab": {
          "base_uri": "https://localhost:8080/",
          "height": 298
        },
        "outputId": "d9bc6fa4-215a-4998-bf9d-b638a51e4f52"
      },
      "source": [
        "#5. Data visualisations and graphs\r\n",
        "#Boxplots are a good way to visualise categorical variables\r\n",
        "sns.boxplot(x=\"body-style\", y=\"price\", data=df)\r\n",
        "#Important to note: We see that the distributions of price between the different body-style categories have a significant overlap, and so body-style would not be a good predictor of price"
      ],
      "execution_count": null,
      "outputs": [
        {
          "output_type": "execute_result",
          "data": {
            "text/plain": [
              "<matplotlib.axes._subplots.AxesSubplot at 0x7fbb3f45b208>"
            ]
          },
          "metadata": {
            "tags": []
          },
          "execution_count": 22
        },
        {
          "output_type": "display_data",
          "data": {
            "image/png": "[encoded data removed]",
            "text/plain": [
              "<Figure size 432x288 with 1 Axes>"
            ]
          },
          "metadata": {
            "tags": [],
            "needs_background": "light"
          }
        }
      ]
    },
    {
      "cell_type": "code",
      "metadata": {
        "id": "IELxYIfgI8DJ",
        "colab": {
          "base_uri": "https://localhost:8080/",
          "height": 314
        },
        "outputId": "4cb37e74-ca73-46c9-f34d-4e4e202c5949"
      },
      "source": [
        "# Graph out critical horsepower data and set x/y labels.  This indicates most cars in the dataset are between 50-100 horsepower\r\n",
        "plt.pyplot.hist(df[\"horsepower\"])\r\n",
        "plt.pyplot.xlabel(\"horsepower\")\r\n",
        "plt.pyplot.ylabel(\"count\")\r\n",
        "plt.pyplot.title(\"horsepower totals\")"
      ],
      "execution_count": null,
      "outputs": [
        {
          "output_type": "execute_result",
          "data": {
            "text/plain": [
              "Text(0.5, 1.0, 'horsepower totals')"
            ]
          },
          "metadata": {
            "tags": []
          },
          "execution_count": 68
        },
        {
          "output_type": "display_data",
          "data": {
            "image/png": "[encoded data removed]",
            "text/plain": [
              "<Figure size 432x288 with 1 Axes>"
            ]
          },
          "metadata": {
            "tags": [],
            "needs_background": "light"
          }
        }
      ]
    },
    {
      "cell_type": "code",
      "metadata": {
        "id": "rUKS6HcBcLuT",
        "colab": {
          "base_uri": "https://localhost:8080/",
          "height": 314
        },
        "outputId": "2fe3d5cf-f8a3-4492-a8dc-8fb0c2f8c8c9"
      },
      "source": [
        "# Graph out the distribution of each bin\r\n",
        "pyplot.bar(group_names, df[\"horsepower-binned\"].value_counts())\r\n",
        "plt.pyplot.xlabel(\"horsepower\")\r\n",
        "plt.pyplot.ylabel(\"count\")\r\n",
        "plt.pyplot.title(\"horsepower bins\")"
      ],
      "execution_count": null,
      "outputs": [
        {
          "output_type": "execute_result",
          "data": {
            "text/plain": [
              "Text(0.5, 1.0, 'horsepower bins')"
            ]
          },
          "metadata": {
            "tags": []
          },
          "execution_count": 69
        },
        {
          "output_type": "display_data",
          "data": {
            "image/png": "[encoded data removed]",
            "text/plain": [
              "<Figure size 432x288 with 1 Axes>"
            ]
          },
          "metadata": {
            "tags": [],
            "needs_background": "light"
          }
        }
      ]
    },
    {
      "cell_type": "code",
      "metadata": {
        "colab": {
          "base_uri": "https://localhost:8080/",
          "height": 269
        },
        "id": "dt3IaGy6V3nr",
        "outputId": "e0e82aba-acd3-4b2b-dd2d-245ebb2e840a"
      },
      "source": [
        "# Heatmap is a good way to put a pivot table in a graphical format\r\n",
        "#ax = plt.pyplot.subplots()\r\n",
        "plt.pyplot.pcolor(df_pivot, cmap='RdBu')\r\n",
        "plt.pyplot.colorbar()\r\n",
        "plt.pyplot.show()\r\n",
        "#row_labels = df_pivot.columns.levels[1]\r\n",
        "#col_labels = df_pivot.index\r\n",
        "#ax.set_xticklabels(row_labels, minor=False)\r\n",
        "#ax.set_yticklabels(col_labels, minor=False)"
      ],
      "execution_count": null,
      "outputs": [
        {
          "output_type": "display_data",
          "data": {
            "image/png": "[encoded data removed]",
            "text/plain": [
              "<Figure size 432x288 with 2 Axes>"
            ]
          },
          "metadata": {
            "tags": [],
            "needs_background": "light"
          }
        }
      ]
    },
    {
      "cell_type": "code",
      "metadata": {
        "id": "AjqbuoYQguAq",
        "colab": {
          "base_uri": "https://localhost:8080/",
          "height": 314
        },
        "outputId": "f6b665b6-df27-426f-c04c-0310d738e6e2"
      },
      "source": [
        "# Use a scatterplot to see if price is determined by engine size.  Based on the graph, it looks like there is a positive relationship\r\n",
        "y = df[\"price\"]\r\n",
        "x = df[\"engine-size\"]\r\n",
        "plt.pyplot.scatter(x,y)\r\n",
        "\r\n",
        "plt.pyplot.title(\"Scatterplot of Engine Size and Price\")\r\n",
        "plt.pyplot.xlabel(\"Engine Size\")\r\n",
        "plt.pyplot.ylabel(\"Price\")"
      ],
      "execution_count": null,
      "outputs": [
        {
          "output_type": "execute_result",
          "data": {
            "text/plain": [
              "Text(0, 0.5, 'Price')"
            ]
          },
          "metadata": {
            "tags": []
          },
          "execution_count": 71
        },
        {
          "output_type": "display_data",
          "data": {
            "image/png": "[encoded data removed]",
            "text/plain": [
              "<Figure size 432x288 with 1 Axes>"
            ]
          },
          "metadata": {
            "tags": [],
            "needs_background": "light"
          }
        }
      ]
    },
    {
      "cell_type": "code",
      "metadata": {
        "colab": {
          "base_uri": "https://localhost:8080/",
          "height": 298
        },
        "id": "oH5DzoBGVraz",
        "outputId": "e626529d-219f-442f-dd01-1358a22e2e67"
      },
      "source": [
        "#Based on the above and the regression model, graphically fit the line. \r\n",
        "sns.regplot(x=\"engine-size\", y=\"price\", data=df)\r\n",
        "plt.pyplot.ylim(0,)"
      ],
      "execution_count": null,
      "outputs": [
        {
          "output_type": "execute_result",
          "data": {
            "text/plain": [
              "(0.0, 52273.760759894736)"
            ]
          },
          "metadata": {
            "tags": []
          },
          "execution_count": 74
        },
        {
          "output_type": "display_data",
          "data": {
            "image/png": "[encoded data removed]",
            "text/plain": [
              "<Figure size 432x288 with 1 Axes>"
            ]
          },
          "metadata": {
            "tags": [],
            "needs_background": "light"
          }
        }
      ]
    },
    {
      "cell_type": "code",
      "metadata": {
        "colab": {
          "base_uri": "https://localhost:8080/",
          "height": 314
        },
        "id": "kVdakdrsfaZD",
        "outputId": "859cfdb2-86b2-4e6e-e108-ef63d92bba98"
      },
      "source": [
        "# Use a scatterplot to see if price is determined by highway miles.  Based on the graph, it looks like there is a negative relationship\r\n",
        "y = df[\"price\"]\r\n",
        "x = df[\"highway-mpg\"]\r\n",
        "plt.pyplot.scatter(x,y)\r\n",
        "\r\n",
        "plt.pyplot.title(\"Scatterplot of Highway Mileage and Price\")\r\n",
        "plt.pyplot.xlabel(\"Highway Miles\")\r\n",
        "plt.pyplot.ylabel(\"Price\")"
      ],
      "execution_count": null,
      "outputs": [
        {
          "output_type": "execute_result",
          "data": {
            "text/plain": [
              "Text(0, 0.5, 'Price')"
            ]
          },
          "metadata": {
            "tags": []
          },
          "execution_count": 77
        },
        {
          "output_type": "display_data",
          "data": {
            "image/png": "[encoded data removed]",
            "text/plain": [
              "<Figure size 432x288 with 1 Axes>"
            ]
          },
          "metadata": {
            "tags": [],
            "needs_background": "light"
          }
        }
      ]
    },
    {
      "cell_type": "code",
      "metadata": {
        "colab": {
          "base_uri": "https://localhost:8080/",
          "height": 298
        },
        "id": "8hHkoHDOVt41",
        "outputId": "7d88c09f-a11f-48fd-a7e1-da5e27de862f"
      },
      "source": [
        "#Based on the above and the regression model, graphically fit the line. \r\n",
        "sns.regplot(x=\"highway-mpg\", y=\"price\", data=df)\r\n",
        "plt.pyplot.ylim(0,)"
      ],
      "execution_count": null,
      "outputs": [
        {
          "output_type": "execute_result",
          "data": {
            "text/plain": [
              "(0.0, 48120.51568172065)"
            ]
          },
          "metadata": {
            "tags": []
          },
          "execution_count": 78
        },
        {
          "output_type": "display_data",
          "data": {
            "image/png": "[encoded data removed]",
            "text/plain": [
              "<Figure size 432x288 with 1 Axes>"
            ]
          },
          "metadata": {
            "tags": [],
            "needs_background": "light"
          }
        }
      ]
    },
    {
      "cell_type": "code",
      "metadata": {
        "colab": {
          "base_uri": "https://localhost:8080/",
          "height": 355
        },
        "id": "-CUOc20UnzDZ",
        "outputId": "79540d12-a579-4514-cf3e-aa9ebc614191"
      },
      "source": [
        "#A residual plot shows a curvature, therefore the residual errors are not evenly distributed and therefore the linear assumption is not correct\r\n",
        "sns.residplot(df[\"highway-mpg\"], df[\"price\"])"
      ],
      "execution_count": null,
      "outputs": [
        {
          "output_type": "stream",
          "text": [
            "/usr/local/lib/python3.6/dist-packages/seaborn/_decorators.py:43: FutureWarning: Pass the following variables as keyword args: x, y. From version 0.12, the only valid positional argument will be `data`, and passing other arguments without an explicit keyword will result in an error or misinterpretation.\n",
            "  FutureWarning\n"
          ],
          "name": "stderr"
        },
        {
          "output_type": "execute_result",
          "data": {
            "text/plain": [
              "<matplotlib.axes._subplots.AxesSubplot at 0x7fbb33527be0>"
            ]
          },
          "metadata": {
            "tags": []
          },
          "execution_count": 89
        },
        {
          "output_type": "display_data",
          "data": {
            "image/png": "[encoded data removed]",
            "text/plain": [
              "<Figure size 432x288 with 1 Axes>"
            ]
          },
          "metadata": {
            "tags": [],
            "needs_background": "light"
          }
        }
      ]
    }
  ]
}