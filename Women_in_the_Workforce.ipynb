{
  "nbformat": 4,
  "nbformat_minor": 0,
  "metadata": {
    "colab": {
      "name": "Women in the Workforce",
      "provenance": [],
      "collapsed_sections": [],
      "authorship_tag": "ABX9TyNB6I1oOzdegwXNS4aaSvby",
      "include_colab_link": true
    },
    "kernelspec": {
      "name": "python3",
      "display_name": "Python 3"
    }
  },
  "cells": [
    {
      "cell_type": "markdown",
      "metadata": {
        "id": "view-in-github",
        "colab_type": "text"
      },
      "source": [
        "<a href=\"https://colab.research.google.com/github/ahorvath008/Data-Science/blob/main/Women_in_the_Workforce.ipynb\" target=\"_parent\"><img src=\"https://colab.research.google.com/assets/colab-badge.svg\" alt=\"Open In Colab\"/></a>"
      ]
    },
    {
      "cell_type": "markdown",
      "metadata": {
        "id": "3hUCuTTy9ba1"
      },
      "source": [
        "**Purpose:** The purpose of the following analysis is to analyse women labour force participation and its impact on the enterpreneurship index and economic developent within that country\r\n",
        "\r\n",
        "**Data:** The data source is the UN database on women enterpreneurship (from Kaggle) "
      ]
    },
    {
      "cell_type": "markdown",
      "metadata": {
        "id": "yeCfmU_CEVmc"
      },
      "source": [
        "<h2>Table of Contents</h2>\r\n",
        "\r\n",
        "<div class=\"alert alert-block alert-info\" style=\"margin-top: 20px\">\r\n",
        "<ol>\r\n",
        "    <li><a href=\"#data_acquisition\">Data import and data wrangling</a>\r\n",
        "    <li><a href=\"#basic_insight\">Data characteristics</a></li>\r\n",
        "    <li><a href=\"\"#basic_insight\"> Exploratory Data Analysis (EDA) </a></li>\r\n",
        "    <li><a href=\"#basic_insight\">Data visualisations and graphs</a></li>\r\n",
        " </ol>\r\n",
        "\r\n",
        "</div>\r\n",
        "<hr>"
      ]
    },
    {
      "cell_type": "code",
      "metadata": {
        "id": "WVSo4Hnv9XSI"
      },
      "source": [
        "#First install the IBM database connectivity\r\n",
        "#pip install ibm_db"
      ],
      "execution_count": null,
      "outputs": []
    },
    {
      "cell_type": "code",
      "metadata": {
        "id": "0i5Q8X1V424E"
      },
      "source": [
        "import ibm_db #This is to import the IBM connectivity\r\n",
        "import pandas as pd\r\n",
        "import numpy as np\r\n",
        "%matplotlib inline\r\n",
        "import matplotlib as plt\r\n",
        "from matplotlib import pyplot\r\n",
        "import seaborn as sns\r\n",
        "import scipy as stats"
      ],
      "execution_count": 12,
      "outputs": []
    },
    {
      "cell_type": "code",
      "metadata": {
        "id": "Tu4S7qrK75V2"
      },
      "source": [
        "#Create Db2 hostname, username, and password:\r\n",
        "dsn_hostname = \"dashdb-txn-sbox-yp-dal09-14.services.dal.bluemix.net\" # e.g.: \"dashdb-txn-sbox-yp-dal09-04.services.dal.bluemix.net\"\r\n",
        "dsn_uid = \"jwf15661\"        # e.g. \"abc12345\"\r\n",
        "dsn_pwd = \"dlpr120c5l05g2^v\"      # e.g. \"7dBZ3wWt9XN6$o0J\"\r\n",
        "dsn_driver = \"{IBM DB2 ODBC DRIVER}\"\r\n",
        "dsn_database = \"BLUDB\"            # e.g. \"BLUDB\"\r\n",
        "dsn_port = \"50000\"                # e.g. \"50000\" \r\n",
        "dsn_protocol = \"TCPIP\"            # i.e. \"TCPIP\""
      ],
      "execution_count": 13,
      "outputs": []
    },
    {
      "cell_type": "code",
      "metadata": {
        "colab": {
          "base_uri": "https://localhost:8080/"
        },
        "id": "xgXBl24z83az",
        "outputId": "e9d1177c-dba5-49b4-8bff-9f925a6d1898"
      },
      "source": [
        "#Create the dsn connection string\r\n",
        "dsn = (\r\n",
        "    \"DRIVER={0};\"\r\n",
        "    \"DATABASE={1};\"\r\n",
        "    \"HOSTNAME={2};\"\r\n",
        "    \"PORT={3};\"\r\n",
        "    \"PROTOCOL={4};\"\r\n",
        "    \"UID={5};\"\r\n",
        "    \"PWD={6};\").format(dsn_driver, dsn_database, dsn_hostname, dsn_port, dsn_protocol, dsn_uid, dsn_pwd)\r\n",
        "\r\n",
        "#print the connection string to check correct values are specified\r\n",
        "print(dsn)"
      ],
      "execution_count": 26,
      "outputs": [
        {
          "output_type": "stream",
          "text": [
            "DRIVER={IBM DB2 ODBC DRIVER};DATABASE=BLUDB;HOSTNAME=dashdb-txn-sbox-yp-dal09-14.services.dal.bluemix.net;PORT=50000;PROTOCOL=TCPIP;UID=jwf15661;PWD=dlpr120c5l05g2^v;\n"
          ],
          "name": "stdout"
        }
      ]
    },
    {
      "cell_type": "code",
      "metadata": {
        "colab": {
          "base_uri": "https://localhost:8080/"
        },
        "id": "t68YNozd86l9",
        "outputId": "a0de9a23-5534-4a32-9120-5eba92ed1df6"
      },
      "source": [
        "#Create database connection\r\n",
        "try:\r\n",
        "    conn = ibm_db.connect(dsn, \"\", \"\")\r\n",
        "    print (\"Connected to database: \", dsn_database, \"as user: \", dsn_uid, \"on host: \", dsn_hostname)\r\n",
        "\r\n",
        "except:\r\n",
        "    print (\"Unable to connect: \", ibm_db.conn_errormsg() )"
      ],
      "execution_count": 15,
      "outputs": [
        {
          "output_type": "stream",
          "text": [
            "Connected to database:  BLUDB as user:  jwf15661 on host:  dashdb-txn-sbox-yp-dal09-14.services.dal.bluemix.net\n"
          ],
          "name": "stdout"
        }
      ]
    },
    {
      "cell_type": "code",
      "metadata": {
        "id": "6hFvqbT367zk"
      },
      "source": [
        "#%reload_ext sql\r\n",
        "#%sql ibm_db_sa://jwf15661:dlpr120c5l05g2^v@dashdb-txn-sbox-yp-dal09-14.services.dal.bluemix.net:50000/BLUDB"
      ],
      "execution_count": null,
      "outputs": []
    },
    {
      "cell_type": "code",
      "metadata": {
        "id": "_zwsEPKSA7h1"
      },
      "source": [
        "#1. Data import and data wrangling\r\n",
        "# Using Pandas to retrieve data\r\n",
        "import ibm_db_dbi\r\n",
        "\r\n",
        "pconn = ibm_db_dbi.Connection(conn)\r\n",
        "df = pd.read_sql('SELECT * FROM Women', pconn)\r\n",
        "df"
      ],
      "execution_count": null,
      "outputs": []
    },
    {
      "cell_type": "code",
      "metadata": {
        "colab": {
          "base_uri": "https://localhost:8080/",
          "height": 226
        },
        "id": "0Z0_UdmlCIUd",
        "outputId": "364cf84a-f639-48fc-ae7a-24b26bf92f71"
      },
      "source": [
        "#2. Data characteristics\r\n",
        "df.head()"
      ],
      "execution_count": 27,
      "outputs": [
        {
          "output_type": "execute_result",
          "data": {
            "text/html": [
              "<div>\n",
              "<style scoped>\n",
              "    .dataframe tbody tr th:only-of-type {\n",
              "        vertical-align: middle;\n",
              "    }\n",
              "\n",
              "    .dataframe tbody tr th {\n",
              "        vertical-align: top;\n",
              "    }\n",
              "\n",
              "    .dataframe thead th {\n",
              "        text-align: right;\n",
              "    }\n",
              "</style>\n",
              "<table border=\"1\" class=\"dataframe\">\n",
              "  <thead>\n",
              "    <tr style=\"text-align: right;\">\n",
              "      <th></th>\n",
              "      <th>No</th>\n",
              "      <th>Country</th>\n",
              "      <th>Level_of_development</th>\n",
              "      <th>European_Union_Membership</th>\n",
              "      <th>Currency</th>\n",
              "      <th>Women_Entrepreneurship_Index</th>\n",
              "      <th>Entrepreneurship_Index</th>\n",
              "      <th>Inflation_rate</th>\n",
              "      <th>Female_Labor_Force_Participation_Rate</th>\n",
              "    </tr>\n",
              "  </thead>\n",
              "  <tbody>\n",
              "    <tr>\n",
              "      <th>0</th>\n",
              "      <td>4</td>\n",
              "      <td>Austria</td>\n",
              "      <td>Developed</td>\n",
              "      <td>Member</td>\n",
              "      <td>Euro</td>\n",
              "      <td>54.9</td>\n",
              "      <td>64.9</td>\n",
              "      <td>0.90</td>\n",
              "      <td>67.1</td>\n",
              "    </tr>\n",
              "    <tr>\n",
              "      <th>1</th>\n",
              "      <td>6</td>\n",
              "      <td>Belgium</td>\n",
              "      <td>Developed</td>\n",
              "      <td>Member</td>\n",
              "      <td>Euro</td>\n",
              "      <td>63.6</td>\n",
              "      <td>65.5</td>\n",
              "      <td>0.60</td>\n",
              "      <td>58.0</td>\n",
              "    </tr>\n",
              "    <tr>\n",
              "      <th>2</th>\n",
              "      <td>17</td>\n",
              "      <td>Estonia</td>\n",
              "      <td>Developed</td>\n",
              "      <td>Member</td>\n",
              "      <td>Euro</td>\n",
              "      <td>55.4</td>\n",
              "      <td>60.2</td>\n",
              "      <td>-0.88</td>\n",
              "      <td>68.5</td>\n",
              "    </tr>\n",
              "    <tr>\n",
              "      <th>3</th>\n",
              "      <td>18</td>\n",
              "      <td>Finland</td>\n",
              "      <td>Developed</td>\n",
              "      <td>Member</td>\n",
              "      <td>Euro</td>\n",
              "      <td>66.4</td>\n",
              "      <td>65.7</td>\n",
              "      <td>-0.20</td>\n",
              "      <td>67.7</td>\n",
              "    </tr>\n",
              "    <tr>\n",
              "      <th>4</th>\n",
              "      <td>19</td>\n",
              "      <td>France</td>\n",
              "      <td>Developed</td>\n",
              "      <td>Member</td>\n",
              "      <td>Euro</td>\n",
              "      <td>68.8</td>\n",
              "      <td>67.3</td>\n",
              "      <td>0.00</td>\n",
              "      <td>60.6</td>\n",
              "    </tr>\n",
              "  </tbody>\n",
              "</table>\n",
              "</div>"
            ],
            "text/plain": [
              "   No  Country  ... Inflation_rate Female_Labor_Force_Participation_Rate\n",
              "0   4  Austria  ...           0.90                                  67.1\n",
              "1   6  Belgium  ...           0.60                                  58.0\n",
              "2  17  Estonia  ...          -0.88                                  68.5\n",
              "3  18  Finland  ...          -0.20                                  67.7\n",
              "4  19   France  ...           0.00                                  60.6\n",
              "\n",
              "[5 rows x 9 columns]"
            ]
          },
          "metadata": {
            "tags": []
          },
          "execution_count": 27
        }
      ]
    },
    {
      "cell_type": "code",
      "metadata": {
        "id": "6UjizSWfFzP0"
      },
      "source": [
        "df.info()"
      ],
      "execution_count": null,
      "outputs": []
    },
    {
      "cell_type": "code",
      "metadata": {
        "id": "82IyOuerCRGs"
      },
      "source": [
        "#3. Exploratory Data Analysis (EDA) \r\n",
        "\r\n"
      ],
      "execution_count": null,
      "outputs": []
    },
    {
      "cell_type": "code",
      "metadata": {
        "id": "_EmOK-gNFch9"
      },
      "source": [
        "#4. Data visualisations and graphs\r\n",
        "\r\n",
        "\r\n"
      ],
      "execution_count": null,
      "outputs": []
    }
  ]
}