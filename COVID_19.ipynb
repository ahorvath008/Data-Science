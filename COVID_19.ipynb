{
  "nbformat": 4,
  "nbformat_minor": 0,
  "metadata": {
    "colab": {
      "name": "COVID-19.ipynb",
      "provenance": [],
      "collapsed_sections": [],
      "authorship_tag": "ABX9TyMF/UwYRX54QLzF0wFYqZRl",
      "include_colab_link": true
    },
    "kernelspec": {
      "name": "python3",
      "display_name": "Python 3"
    }
  },
  "cells": [
    {
      "cell_type": "markdown",
      "metadata": {
        "id": "view-in-github",
        "colab_type": "text"
      },
      "source": [
        "<a href=\"https://colab.research.google.com/github/ahorvath008/Data-Science/blob/main/COVID_19.ipynb\" target=\"_parent\"><img src=\"https://colab.research.google.com/assets/colab-badge.svg\" alt=\"Open In Colab\"/></a>"
      ]
    },
    {
      "cell_type": "markdown",
      "metadata": {
        "id": "p-hzj9s1NoGS"
      },
      "source": [
        "** Purpose: ** To perform analytics on Covid-19 data\n",
        "\n",
        "** Data: ** The data used from a dedicated Covid-19 API.  (Corona-API.com)"
      ]
    },
    {
      "cell_type": "markdown",
      "metadata": {
        "id": "F65ouO2NV0dm"
      },
      "source": [
        "Table of Contents\n",
        "\n",
        "Data import and data wrangling\n",
        "Data characteristics\n",
        "Exploratory Data Analysis (EDA)\n",
        "Data visualisations and graphs\n"
      ]
    },
    {
      "cell_type": "code",
      "metadata": {
        "id": "vHaVplfe_NJE"
      },
      "source": [
        "import requests # library to handle requests\n",
        "import pandas as pd # library for data analsysis\n",
        "import numpy as np # library to handle data in a vectorized manner\n",
        "import random # library for random number generation\n",
        "import seaborn as sns\n",
        "import scipy as stats\n",
        "import json\n",
        "import flask\n",
        "from matplotlib import pyplot as plt \n"
      ],
      "execution_count": 2,
      "outputs": []
    },
    {
      "cell_type": "code",
      "metadata": {
        "id": "bg_UnCbv_Zua"
      },
      "source": [
        "# tranforming json file into a pandas dataframe library\n",
        "from pandas.io.json import json_normalize"
      ],
      "execution_count": null,
      "outputs": []
    },
    {
      "cell_type": "code",
      "metadata": {
        "id": "V461v9EQ_fVa",
        "colab": {
          "base_uri": "https://localhost:8080/"
        },
        "outputId": "eae70cbd-3c6c-4b0f-81e1-7e0781b6ec10"
      },
      "source": [
        "! pip install folium==0.5.0\n",
        "import folium # plotting library"
      ],
      "execution_count": null,
      "outputs": [
        {
          "output_type": "stream",
          "text": [
            "Collecting folium==0.5.0\n",
            "\u001b[?25l  Downloading https://files.pythonhosted.org/packages/07/37/456fb3699ed23caa0011f8b90d9cad94445eddc656b601e6268090de35f5/folium-0.5.0.tar.gz (79kB)\n",
            "\r\u001b[K     |████▏                           | 10kB 15.7MB/s eta 0:00:01\r\u001b[K     |████████▎                       | 20kB 16.3MB/s eta 0:00:01\r\u001b[K     |████████████▍                   | 30kB 10.3MB/s eta 0:00:01\r\u001b[K     |████████████████▌               | 40kB 8.6MB/s eta 0:00:01\r\u001b[K     |████████████████████▊           | 51kB 7.1MB/s eta 0:00:01\r\u001b[K     |████████████████████████▉       | 61kB 7.3MB/s eta 0:00:01\r\u001b[K     |█████████████████████████████   | 71kB 8.0MB/s eta 0:00:01\r\u001b[K     |████████████████████████████████| 81kB 5.3MB/s \n",
            "\u001b[?25hRequirement already satisfied: branca in /usr/local/lib/python3.6/dist-packages (from folium==0.5.0) (0.4.2)\n",
            "Requirement already satisfied: jinja2 in /usr/local/lib/python3.6/dist-packages (from folium==0.5.0) (2.11.2)\n",
            "Requirement already satisfied: requests in /usr/local/lib/python3.6/dist-packages (from folium==0.5.0) (2.23.0)\n",
            "Requirement already satisfied: six in /usr/local/lib/python3.6/dist-packages (from folium==0.5.0) (1.15.0)\n",
            "Requirement already satisfied: MarkupSafe>=0.23 in /usr/local/lib/python3.6/dist-packages (from jinja2->folium==0.5.0) (1.1.1)\n",
            "Requirement already satisfied: idna<3,>=2.5 in /usr/local/lib/python3.6/dist-packages (from requests->folium==0.5.0) (2.10)\n",
            "Requirement already satisfied: certifi>=2017.4.17 in /usr/local/lib/python3.6/dist-packages (from requests->folium==0.5.0) (2020.12.5)\n",
            "Requirement already satisfied: chardet<4,>=3.0.2 in /usr/local/lib/python3.6/dist-packages (from requests->folium==0.5.0) (3.0.4)\n",
            "Requirement already satisfied: urllib3!=1.25.0,!=1.25.1,<1.26,>=1.21.1 in /usr/local/lib/python3.6/dist-packages (from requests->folium==0.5.0) (1.24.3)\n",
            "Building wheels for collected packages: folium\n",
            "  Building wheel for folium (setup.py) ... \u001b[?25l\u001b[?25hdone\n",
            "  Created wheel for folium: filename=folium-0.5.0-cp36-none-any.whl size=76240 sha256=6c59b5a6afb68a86816418b9039d2d89132fae8e8ad211817a03d1f049bef073\n",
            "  Stored in directory: /root/.cache/pip/wheels/f8/98/ff/954791afc47740d554f0d9e5885fa09dd60c2265d42578e665\n",
            "Successfully built folium\n",
            "\u001b[31mERROR: datascience 0.10.6 has requirement folium==0.2.1, but you'll have folium 0.5.0 which is incompatible.\u001b[0m\n",
            "Installing collected packages: folium\n",
            "  Found existing installation: folium 0.8.3\n",
            "    Uninstalling folium-0.8.3:\n",
            "      Successfully uninstalled folium-0.8.3\n",
            "Successfully installed folium-0.5.0\n"
          ],
          "name": "stdout"
        }
      ]
    },
    {
      "cell_type": "code",
      "metadata": {
        "id": "jhiyJoUTphqA"
      },
      "source": [
        "# Establish a connection to the Coronavirus API\n",
        "url = 'https://corona-api.com/countries?format=json'"
      ],
      "execution_count": null,
      "outputs": []
    },
    {
      "cell_type": "code",
      "metadata": {
        "id": "gK4DXIgiC1DL"
      },
      "source": [
        "# Grab the data from the file in json format\n",
        "results = requests.get(url).json()\n",
        "results"
      ],
      "execution_count": null,
      "outputs": []
    },
    {
      "cell_type": "code",
      "metadata": {
        "colab": {
          "base_uri": "https://localhost:8080/",
          "height": 298
        },
        "id": "yoVsLoq1FMLd",
        "outputId": "021849eb-9d23-4a48-a9d7-083accde6752"
      },
      "source": [
        "# assign relevant part of JSON to countries\n",
        "data = results['data']\n",
        "\n",
        "# tranform venues into a dataframe\n",
        "df = json_normalize(data)\n",
        "df.head(5)"
      ],
      "execution_count": null,
      "outputs": [
        {
          "output_type": "stream",
          "text": [
            "/usr/local/lib/python3.6/dist-packages/ipykernel_launcher.py:5: FutureWarning: pandas.io.json.json_normalize is deprecated, use pandas.json_normalize instead\n",
            "  \"\"\"\n"
          ],
          "name": "stderr"
        },
        {
          "output_type": "execute_result",
          "data": {
            "text/html": [
              "<div>\n",
              "<style scoped>\n",
              "    .dataframe tbody tr th:only-of-type {\n",
              "        vertical-align: middle;\n",
              "    }\n",
              "\n",
              "    .dataframe tbody tr th {\n",
              "        vertical-align: top;\n",
              "    }\n",
              "\n",
              "    .dataframe thead th {\n",
              "        text-align: right;\n",
              "    }\n",
              "</style>\n",
              "<table border=\"1\" class=\"dataframe\">\n",
              "  <thead>\n",
              "    <tr style=\"text-align: right;\">\n",
              "      <th></th>\n",
              "      <th>name</th>\n",
              "      <th>code</th>\n",
              "      <th>population</th>\n",
              "      <th>updated_at</th>\n",
              "      <th>coordinates.latitude</th>\n",
              "      <th>coordinates.longitude</th>\n",
              "      <th>today.deaths</th>\n",
              "      <th>today.confirmed</th>\n",
              "      <th>latest_data.deaths</th>\n",
              "      <th>latest_data.confirmed</th>\n",
              "      <th>latest_data.recovered</th>\n",
              "      <th>latest_data.critical</th>\n",
              "      <th>latest_data.calculated.death_rate</th>\n",
              "      <th>latest_data.calculated.recovery_rate</th>\n",
              "      <th>latest_data.calculated.recovered_vs_death_ratio</th>\n",
              "      <th>latest_data.calculated.cases_per_million_population</th>\n",
              "    </tr>\n",
              "  </thead>\n",
              "  <tbody>\n",
              "    <tr>\n",
              "      <th>0</th>\n",
              "      <td>Afghanistan</td>\n",
              "      <td>AF</td>\n",
              "      <td>29121286.0</td>\n",
              "      <td>2021-01-22T16:05:10.479Z</td>\n",
              "      <td>33.0</td>\n",
              "      <td>65.0</td>\n",
              "      <td>3</td>\n",
              "      <td>76</td>\n",
              "      <td>2373</td>\n",
              "      <td>54559</td>\n",
              "      <td>46912</td>\n",
              "      <td>5274</td>\n",
              "      <td>4.349420</td>\n",
              "      <td>85.983981</td>\n",
              "      <td>None</td>\n",
              "      <td>807</td>\n",
              "    </tr>\n",
              "    <tr>\n",
              "      <th>1</th>\n",
              "      <td>Albania</td>\n",
              "      <td>AL</td>\n",
              "      <td>2986952.0</td>\n",
              "      <td>2021-01-22T16:05:10.479Z</td>\n",
              "      <td>41.0</td>\n",
              "      <td>20.0</td>\n",
              "      <td>7</td>\n",
              "      <td>739</td>\n",
              "      <td>1303</td>\n",
              "      <td>70655</td>\n",
              "      <td>42895</td>\n",
              "      <td>26457</td>\n",
              "      <td>1.844172</td>\n",
              "      <td>60.710495</td>\n",
              "      <td>None</td>\n",
              "      <td>39</td>\n",
              "    </tr>\n",
              "    <tr>\n",
              "      <th>2</th>\n",
              "      <td>Åland Islands</td>\n",
              "      <td>AX</td>\n",
              "      <td>26711.0</td>\n",
              "      <td>2021-01-22T16:05:10.479Z</td>\n",
              "      <td>0.0</td>\n",
              "      <td>0.0</td>\n",
              "      <td>0</td>\n",
              "      <td>0</td>\n",
              "      <td>0</td>\n",
              "      <td>0</td>\n",
              "      <td>0</td>\n",
              "      <td>0</td>\n",
              "      <td>NaN</td>\n",
              "      <td>NaN</td>\n",
              "      <td>None</td>\n",
              "      <td>0</td>\n",
              "    </tr>\n",
              "    <tr>\n",
              "      <th>3</th>\n",
              "      <td>American Samoa</td>\n",
              "      <td>AS</td>\n",
              "      <td>57881.0</td>\n",
              "      <td>2021-01-22T16:05:10.479Z</td>\n",
              "      <td>0.0</td>\n",
              "      <td>0.0</td>\n",
              "      <td>0</td>\n",
              "      <td>0</td>\n",
              "      <td>0</td>\n",
              "      <td>0</td>\n",
              "      <td>0</td>\n",
              "      <td>0</td>\n",
              "      <td>NaN</td>\n",
              "      <td>NaN</td>\n",
              "      <td>None</td>\n",
              "      <td>0</td>\n",
              "    </tr>\n",
              "    <tr>\n",
              "      <th>4</th>\n",
              "      <td>Algeria</td>\n",
              "      <td>DZ</td>\n",
              "      <td>34586184.0</td>\n",
              "      <td>2021-01-22T16:05:10.479Z</td>\n",
              "      <td>28.0</td>\n",
              "      <td>3.0</td>\n",
              "      <td>0</td>\n",
              "      <td>0</td>\n",
              "      <td>2853</td>\n",
              "      <td>104852</td>\n",
              "      <td>71343</td>\n",
              "      <td>30656</td>\n",
              "      <td>2.720978</td>\n",
              "      <td>68.041621</td>\n",
              "      <td>None</td>\n",
              "      <td>42</td>\n",
              "    </tr>\n",
              "  </tbody>\n",
              "</table>\n",
              "</div>"
            ],
            "text/plain": [
              "             name  ... latest_data.calculated.cases_per_million_population\n",
              "0     Afghanistan  ...                                                807 \n",
              "1         Albania  ...                                                 39 \n",
              "2   Åland Islands  ...                                                  0 \n",
              "3  American Samoa  ...                                                  0 \n",
              "4         Algeria  ...                                                 42 \n",
              "\n",
              "[5 rows x 16 columns]"
            ]
          },
          "metadata": {
            "tags": []
          },
          "execution_count": 6
        }
      ]
    },
    {
      "cell_type": "code",
      "metadata": {
        "id": "zHdUaZTjFByt",
        "colab": {
          "base_uri": "https://localhost:8080/",
          "height": 261
        },
        "outputId": "c27ac19c-c136-492b-c681-a3f79ba2914c"
      },
      "source": [
        "#Rename some of the headers to make the file more readable\n",
        "df.rename(columns={'latest_data.deaths':'total_death'}, inplace=True)\n",
        "df.rename(columns={'latest_data.confirmed':'total_cases'}, inplace=True)\n",
        "df.rename(columns={'name':'country'}, inplace=True)\n",
        "df.rename(columns={'latest_data.calculated.death_rate':'deathrate'}, inplace=True)\n",
        "df.rename(columns={'latest_data.calculated.recovery_rate':'recoveryrate'}, inplace=True)\n",
        "df.rename(columns={'latest_data.recovered':'total_recovered'}, inplace=True)\n",
        "df.rename(columns={'calculated.cases_per_million_population':'cases_per_million'}, inplace=True)\n",
        "df.head(5)"
      ],
      "execution_count": null,
      "outputs": [
        {
          "output_type": "execute_result",
          "data": {
            "text/html": [
              "<div>\n",
              "<style scoped>\n",
              "    .dataframe tbody tr th:only-of-type {\n",
              "        vertical-align: middle;\n",
              "    }\n",
              "\n",
              "    .dataframe tbody tr th {\n",
              "        vertical-align: top;\n",
              "    }\n",
              "\n",
              "    .dataframe thead th {\n",
              "        text-align: right;\n",
              "    }\n",
              "</style>\n",
              "<table border=\"1\" class=\"dataframe\">\n",
              "  <thead>\n",
              "    <tr style=\"text-align: right;\">\n",
              "      <th></th>\n",
              "      <th>country</th>\n",
              "      <th>code</th>\n",
              "      <th>population</th>\n",
              "      <th>updated_at</th>\n",
              "      <th>coordinates.latitude</th>\n",
              "      <th>coordinates.longitude</th>\n",
              "      <th>today.deaths</th>\n",
              "      <th>today.confirmed</th>\n",
              "      <th>total_death</th>\n",
              "      <th>total_cases</th>\n",
              "      <th>total_recovered</th>\n",
              "      <th>latest_data.critical</th>\n",
              "      <th>deathrate</th>\n",
              "      <th>recoveryrate</th>\n",
              "      <th>latest_data.calculated.recovered_vs_death_ratio</th>\n",
              "      <th>latest_data.calculated.cases_per_million_population</th>\n",
              "    </tr>\n",
              "  </thead>\n",
              "  <tbody>\n",
              "    <tr>\n",
              "      <th>0</th>\n",
              "      <td>Afghanistan</td>\n",
              "      <td>AF</td>\n",
              "      <td>29121286.0</td>\n",
              "      <td>2021-01-22T16:05:10.479Z</td>\n",
              "      <td>33.0</td>\n",
              "      <td>65.0</td>\n",
              "      <td>3</td>\n",
              "      <td>76</td>\n",
              "      <td>2373</td>\n",
              "      <td>54559</td>\n",
              "      <td>46912</td>\n",
              "      <td>5274</td>\n",
              "      <td>4.349420</td>\n",
              "      <td>85.983981</td>\n",
              "      <td>None</td>\n",
              "      <td>807</td>\n",
              "    </tr>\n",
              "    <tr>\n",
              "      <th>1</th>\n",
              "      <td>Albania</td>\n",
              "      <td>AL</td>\n",
              "      <td>2986952.0</td>\n",
              "      <td>2021-01-22T16:05:10.479Z</td>\n",
              "      <td>41.0</td>\n",
              "      <td>20.0</td>\n",
              "      <td>7</td>\n",
              "      <td>739</td>\n",
              "      <td>1303</td>\n",
              "      <td>70655</td>\n",
              "      <td>42895</td>\n",
              "      <td>26457</td>\n",
              "      <td>1.844172</td>\n",
              "      <td>60.710495</td>\n",
              "      <td>None</td>\n",
              "      <td>39</td>\n",
              "    </tr>\n",
              "    <tr>\n",
              "      <th>2</th>\n",
              "      <td>Åland Islands</td>\n",
              "      <td>AX</td>\n",
              "      <td>26711.0</td>\n",
              "      <td>2021-01-22T16:05:10.479Z</td>\n",
              "      <td>0.0</td>\n",
              "      <td>0.0</td>\n",
              "      <td>0</td>\n",
              "      <td>0</td>\n",
              "      <td>0</td>\n",
              "      <td>0</td>\n",
              "      <td>0</td>\n",
              "      <td>0</td>\n",
              "      <td>NaN</td>\n",
              "      <td>NaN</td>\n",
              "      <td>None</td>\n",
              "      <td>0</td>\n",
              "    </tr>\n",
              "    <tr>\n",
              "      <th>3</th>\n",
              "      <td>American Samoa</td>\n",
              "      <td>AS</td>\n",
              "      <td>57881.0</td>\n",
              "      <td>2021-01-22T16:05:10.479Z</td>\n",
              "      <td>0.0</td>\n",
              "      <td>0.0</td>\n",
              "      <td>0</td>\n",
              "      <td>0</td>\n",
              "      <td>0</td>\n",
              "      <td>0</td>\n",
              "      <td>0</td>\n",
              "      <td>0</td>\n",
              "      <td>NaN</td>\n",
              "      <td>NaN</td>\n",
              "      <td>None</td>\n",
              "      <td>0</td>\n",
              "    </tr>\n",
              "    <tr>\n",
              "      <th>4</th>\n",
              "      <td>Algeria</td>\n",
              "      <td>DZ</td>\n",
              "      <td>34586184.0</td>\n",
              "      <td>2021-01-22T16:05:10.479Z</td>\n",
              "      <td>28.0</td>\n",
              "      <td>3.0</td>\n",
              "      <td>0</td>\n",
              "      <td>0</td>\n",
              "      <td>2853</td>\n",
              "      <td>104852</td>\n",
              "      <td>71343</td>\n",
              "      <td>30656</td>\n",
              "      <td>2.720978</td>\n",
              "      <td>68.041621</td>\n",
              "      <td>None</td>\n",
              "      <td>42</td>\n",
              "    </tr>\n",
              "  </tbody>\n",
              "</table>\n",
              "</div>"
            ],
            "text/plain": [
              "          country  ... latest_data.calculated.cases_per_million_population\n",
              "0     Afghanistan  ...                                                807 \n",
              "1         Albania  ...                                                 39 \n",
              "2   Åland Islands  ...                                                  0 \n",
              "3  American Samoa  ...                                                  0 \n",
              "4         Algeria  ...                                                 42 \n",
              "\n",
              "[5 rows x 16 columns]"
            ]
          },
          "metadata": {
            "tags": []
          },
          "execution_count": 7
        }
      ]
    },
    {
      "cell_type": "code",
      "metadata": {
        "colab": {
          "base_uri": "https://localhost:8080/",
          "height": 261
        },
        "id": "xAcJEVbgTUhZ",
        "outputId": "1ca07e1c-9ec1-4aae-e4f5-1d18790bfa71"
      },
      "source": [
        "#Drop columns that are not required for analytics (coordinates)\n",
        "df.drop(['coordinates.latitude', 'coordinates.longitude', 'code'], axis=1, inplace=True)\n",
        "df.head(5)"
      ],
      "execution_count": null,
      "outputs": [
        {
          "output_type": "execute_result",
          "data": {
            "text/html": [
              "<div>\n",
              "<style scoped>\n",
              "    .dataframe tbody tr th:only-of-type {\n",
              "        vertical-align: middle;\n",
              "    }\n",
              "\n",
              "    .dataframe tbody tr th {\n",
              "        vertical-align: top;\n",
              "    }\n",
              "\n",
              "    .dataframe thead th {\n",
              "        text-align: right;\n",
              "    }\n",
              "</style>\n",
              "<table border=\"1\" class=\"dataframe\">\n",
              "  <thead>\n",
              "    <tr style=\"text-align: right;\">\n",
              "      <th></th>\n",
              "      <th>country</th>\n",
              "      <th>population</th>\n",
              "      <th>updated_at</th>\n",
              "      <th>today.deaths</th>\n",
              "      <th>today.confirmed</th>\n",
              "      <th>total_death</th>\n",
              "      <th>total_cases</th>\n",
              "      <th>total_recovered</th>\n",
              "      <th>latest_data.critical</th>\n",
              "      <th>deathrate</th>\n",
              "      <th>recoveryrate</th>\n",
              "      <th>latest_data.calculated.recovered_vs_death_ratio</th>\n",
              "      <th>latest_data.calculated.cases_per_million_population</th>\n",
              "    </tr>\n",
              "  </thead>\n",
              "  <tbody>\n",
              "    <tr>\n",
              "      <th>0</th>\n",
              "      <td>Afghanistan</td>\n",
              "      <td>29121286.0</td>\n",
              "      <td>2021-01-22T16:05:10.479Z</td>\n",
              "      <td>3</td>\n",
              "      <td>76</td>\n",
              "      <td>2373</td>\n",
              "      <td>54559</td>\n",
              "      <td>46912</td>\n",
              "      <td>5274</td>\n",
              "      <td>4.349420</td>\n",
              "      <td>85.983981</td>\n",
              "      <td>None</td>\n",
              "      <td>807</td>\n",
              "    </tr>\n",
              "    <tr>\n",
              "      <th>1</th>\n",
              "      <td>Albania</td>\n",
              "      <td>2986952.0</td>\n",
              "      <td>2021-01-22T16:05:10.479Z</td>\n",
              "      <td>7</td>\n",
              "      <td>739</td>\n",
              "      <td>1303</td>\n",
              "      <td>70655</td>\n",
              "      <td>42895</td>\n",
              "      <td>26457</td>\n",
              "      <td>1.844172</td>\n",
              "      <td>60.710495</td>\n",
              "      <td>None</td>\n",
              "      <td>39</td>\n",
              "    </tr>\n",
              "    <tr>\n",
              "      <th>2</th>\n",
              "      <td>Åland Islands</td>\n",
              "      <td>26711.0</td>\n",
              "      <td>2021-01-22T16:05:10.479Z</td>\n",
              "      <td>0</td>\n",
              "      <td>0</td>\n",
              "      <td>0</td>\n",
              "      <td>0</td>\n",
              "      <td>0</td>\n",
              "      <td>0</td>\n",
              "      <td>NaN</td>\n",
              "      <td>NaN</td>\n",
              "      <td>None</td>\n",
              "      <td>0</td>\n",
              "    </tr>\n",
              "    <tr>\n",
              "      <th>3</th>\n",
              "      <td>American Samoa</td>\n",
              "      <td>57881.0</td>\n",
              "      <td>2021-01-22T16:05:10.479Z</td>\n",
              "      <td>0</td>\n",
              "      <td>0</td>\n",
              "      <td>0</td>\n",
              "      <td>0</td>\n",
              "      <td>0</td>\n",
              "      <td>0</td>\n",
              "      <td>NaN</td>\n",
              "      <td>NaN</td>\n",
              "      <td>None</td>\n",
              "      <td>0</td>\n",
              "    </tr>\n",
              "    <tr>\n",
              "      <th>4</th>\n",
              "      <td>Algeria</td>\n",
              "      <td>34586184.0</td>\n",
              "      <td>2021-01-22T16:05:10.479Z</td>\n",
              "      <td>0</td>\n",
              "      <td>0</td>\n",
              "      <td>2853</td>\n",
              "      <td>104852</td>\n",
              "      <td>71343</td>\n",
              "      <td>30656</td>\n",
              "      <td>2.720978</td>\n",
              "      <td>68.041621</td>\n",
              "      <td>None</td>\n",
              "      <td>42</td>\n",
              "    </tr>\n",
              "  </tbody>\n",
              "</table>\n",
              "</div>"
            ],
            "text/plain": [
              "          country  ...  latest_data.calculated.cases_per_million_population\n",
              "0     Afghanistan  ...                                                807  \n",
              "1         Albania  ...                                                 39  \n",
              "2   Åland Islands  ...                                                  0  \n",
              "3  American Samoa  ...                                                  0  \n",
              "4         Algeria  ...                                                 42  \n",
              "\n",
              "[5 rows x 13 columns]"
            ]
          },
          "metadata": {
            "tags": []
          },
          "execution_count": 8
        }
      ]
    },
    {
      "cell_type": "code",
      "metadata": {
        "colab": {
          "base_uri": "https://localhost:8080/",
          "height": 261
        },
        "id": "Afkw_l9zDUk0",
        "outputId": "43175147-68c4-44e5-d184-c5c8eb56a99d"
      },
      "source": [
        "#Calculate total recovery rate\n",
        "df[\"Recovery_rate\"] = df[\"total_recovered\"] / df[\"total_cases\"]\n",
        "df.head(5)"
      ],
      "execution_count": null,
      "outputs": [
        {
          "output_type": "execute_result",
          "data": {
            "text/html": [
              "<div>\n",
              "<style scoped>\n",
              "    .dataframe tbody tr th:only-of-type {\n",
              "        vertical-align: middle;\n",
              "    }\n",
              "\n",
              "    .dataframe tbody tr th {\n",
              "        vertical-align: top;\n",
              "    }\n",
              "\n",
              "    .dataframe thead th {\n",
              "        text-align: right;\n",
              "    }\n",
              "</style>\n",
              "<table border=\"1\" class=\"dataframe\">\n",
              "  <thead>\n",
              "    <tr style=\"text-align: right;\">\n",
              "      <th></th>\n",
              "      <th>country</th>\n",
              "      <th>population</th>\n",
              "      <th>updated_at</th>\n",
              "      <th>today.deaths</th>\n",
              "      <th>today.confirmed</th>\n",
              "      <th>total_death</th>\n",
              "      <th>total_cases</th>\n",
              "      <th>total_recovered</th>\n",
              "      <th>latest_data.critical</th>\n",
              "      <th>deathrate</th>\n",
              "      <th>recoveryrate</th>\n",
              "      <th>latest_data.calculated.recovered_vs_death_ratio</th>\n",
              "      <th>latest_data.calculated.cases_per_million_population</th>\n",
              "      <th>Recovery_rate</th>\n",
              "    </tr>\n",
              "  </thead>\n",
              "  <tbody>\n",
              "    <tr>\n",
              "      <th>0</th>\n",
              "      <td>Afghanistan</td>\n",
              "      <td>29121286.0</td>\n",
              "      <td>2021-01-22T16:05:10.479Z</td>\n",
              "      <td>3</td>\n",
              "      <td>76</td>\n",
              "      <td>2373</td>\n",
              "      <td>54559</td>\n",
              "      <td>46912</td>\n",
              "      <td>5274</td>\n",
              "      <td>4.349420</td>\n",
              "      <td>85.983981</td>\n",
              "      <td>None</td>\n",
              "      <td>807</td>\n",
              "      <td>0.859840</td>\n",
              "    </tr>\n",
              "    <tr>\n",
              "      <th>1</th>\n",
              "      <td>Albania</td>\n",
              "      <td>2986952.0</td>\n",
              "      <td>2021-01-22T16:05:10.479Z</td>\n",
              "      <td>7</td>\n",
              "      <td>739</td>\n",
              "      <td>1303</td>\n",
              "      <td>70655</td>\n",
              "      <td>42895</td>\n",
              "      <td>26457</td>\n",
              "      <td>1.844172</td>\n",
              "      <td>60.710495</td>\n",
              "      <td>None</td>\n",
              "      <td>39</td>\n",
              "      <td>0.607105</td>\n",
              "    </tr>\n",
              "    <tr>\n",
              "      <th>2</th>\n",
              "      <td>Åland Islands</td>\n",
              "      <td>26711.0</td>\n",
              "      <td>2021-01-22T16:05:10.479Z</td>\n",
              "      <td>0</td>\n",
              "      <td>0</td>\n",
              "      <td>0</td>\n",
              "      <td>0</td>\n",
              "      <td>0</td>\n",
              "      <td>0</td>\n",
              "      <td>NaN</td>\n",
              "      <td>NaN</td>\n",
              "      <td>None</td>\n",
              "      <td>0</td>\n",
              "      <td>NaN</td>\n",
              "    </tr>\n",
              "    <tr>\n",
              "      <th>3</th>\n",
              "      <td>American Samoa</td>\n",
              "      <td>57881.0</td>\n",
              "      <td>2021-01-22T16:05:10.479Z</td>\n",
              "      <td>0</td>\n",
              "      <td>0</td>\n",
              "      <td>0</td>\n",
              "      <td>0</td>\n",
              "      <td>0</td>\n",
              "      <td>0</td>\n",
              "      <td>NaN</td>\n",
              "      <td>NaN</td>\n",
              "      <td>None</td>\n",
              "      <td>0</td>\n",
              "      <td>NaN</td>\n",
              "    </tr>\n",
              "    <tr>\n",
              "      <th>4</th>\n",
              "      <td>Algeria</td>\n",
              "      <td>34586184.0</td>\n",
              "      <td>2021-01-22T16:05:10.479Z</td>\n",
              "      <td>0</td>\n",
              "      <td>0</td>\n",
              "      <td>2853</td>\n",
              "      <td>104852</td>\n",
              "      <td>71343</td>\n",
              "      <td>30656</td>\n",
              "      <td>2.720978</td>\n",
              "      <td>68.041621</td>\n",
              "      <td>None</td>\n",
              "      <td>42</td>\n",
              "      <td>0.680416</td>\n",
              "    </tr>\n",
              "  </tbody>\n",
              "</table>\n",
              "</div>"
            ],
            "text/plain": [
              "          country  ...  Recovery_rate\n",
              "0     Afghanistan  ...       0.859840\n",
              "1         Albania  ...       0.607105\n",
              "2   Åland Islands  ...            NaN\n",
              "3  American Samoa  ...            NaN\n",
              "4         Algeria  ...       0.680416\n",
              "\n",
              "[5 rows x 14 columns]"
            ]
          },
          "metadata": {
            "tags": []
          },
          "execution_count": 18
        }
      ]
    },
    {
      "cell_type": "code",
      "metadata": {
        "id": "NROyTiFhVFCU"
      },
      "source": [
        "#Top 10 countries with cases (total cases)\n",
        "df_high = df.sort_values(by=\"total_cases\", ascending=False)\n",
        "df_high_top = df_high.head(10)"
      ],
      "execution_count": null,
      "outputs": []
    },
    {
      "cell_type": "code",
      "metadata": {
        "colab": {
          "base_uri": "https://localhost:8080/",
          "height": 298
        },
        "id": "ICrA33o9FJsE",
        "outputId": "bafa7166-3f27-4235-ef75-be1f80f4a1cf"
      },
      "source": [
        "# Graph\n",
        "sns.barplot(data=df_high_top, x='country', y='total_death', palette='magma')"
      ],
      "execution_count": null,
      "outputs": [
        {
          "output_type": "execute_result",
          "data": {
            "text/plain": [
              "<matplotlib.axes._subplots.AxesSubplot at 0x7f4e4fe7f358>"
            ]
          },
          "metadata": {
            "tags": []
          },
          "execution_count": 29
        },
        {
          "output_type": "display_data",
          "data": {
            "image/png": "[encoded data removed]",
            "text/plain": [
              "<Figure size 432x288 with 1 Axes>"
            ]
          },
          "metadata": {
            "tags": [],
            "needs_background": "light"
          }
        }
      ]
    },
    {
      "cell_type": "code",
      "metadata": {
        "id": "jjjmRES1Z8BO"
      },
      "source": [
        "#Top 10 countries with cases (total per population)\n",
        "df_million = df.sort_values(by=\"latest_data.calculated.cases_per_million_population\", ascending=False)\n",
        "df_million = df_million.head(10)\n"
      ],
      "execution_count": null,
      "outputs": []
    },
    {
      "cell_type": "code",
      "metadata": {
        "colab": {
          "base_uri": "https://localhost:8080/",
          "height": 320
        },
        "id": "R4MxFNGXaXI5",
        "outputId": "fc264e48-e3a6-4551-896b-025795350715"
      },
      "source": [
        "#Top 10 countries with cases (total cases per one million)\n",
        "sns.barplot(data=df_million, x='country', y='latest_data.calculated.cases_per_million_population', palette='magma')"
      ],
      "execution_count": null,
      "outputs": [
        {
          "output_type": "execute_result",
          "data": {
            "text/plain": [
              "<matplotlib.axes._subplots.AxesSubplot at 0x7f4e4fc671d0>"
            ]
          },
          "metadata": {
            "tags": []
          },
          "execution_count": 33
        },
        {
          "output_type": "display_data",
          "data": {
            "image/png": "[encoded data removed]",
            "text/plain": [
              "<Figure size 432x288 with 1 Axes>"
            ]
          },
          "metadata": {
            "tags": [],
            "needs_background": "light"
          }
        }
      ]
    },
    {
      "cell_type": "code",
      "metadata": {
        "id": "Zq-2HKRlbH8a"
      },
      "source": [
        "#Lowest recovery rates\n",
        "df_lowest = df.sort_values(by='Recovery_rate', ascending=False)\n",
        "df_lowest = df_lowest.head(10)"
      ],
      "execution_count": null,
      "outputs": []
    },
    {
      "cell_type": "code",
      "metadata": {
        "colab": {
          "base_uri": "https://localhost:8080/",
          "height": 299
        },
        "id": "ZUGEtEo6bn9i",
        "outputId": "48f508f9-c729-48d7-da0c-58e71affc9e4"
      },
      "source": [
        "#Top 10 countries with lowest recovery ates \n",
        "sns.barplot(data=df_million, x='country', y='Recovery_rate', palette='magma')"
      ],
      "execution_count": null,
      "outputs": [
        {
          "output_type": "execute_result",
          "data": {
            "text/plain": [
              "<matplotlib.axes._subplots.AxesSubplot at 0x7f4e4fb80dd8>"
            ]
          },
          "metadata": {
            "tags": []
          },
          "execution_count": 37
        },
        {
          "output_type": "display_data",
          "data": {
            "image/png": "[encoded data removed]",
            "text/plain": [
              "<Figure size 432x288 with 1 Axes>"
            ]
          },
          "metadata": {
            "tags": [],
            "needs_background": "light"
          }
        }
      ]
    },
    {
      "cell_type": "code",
      "metadata": {
        "id": "-je6gMiUcEmO"
      },
      "source": [],
      "execution_count": null,
      "outputs": []
    }
  ]
}