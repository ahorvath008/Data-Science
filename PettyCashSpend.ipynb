{
    "cells": [
        {
            "cell_type": "markdown",
            "metadata": {},
            "source": "This is an analysis of petty cash spend"
        },
        {
            "cell_type": "code",
            "execution_count": 2,
            "metadata": {},
            "outputs": [
                {
                    "data": {
                        "text/html": "<div>\n<style scoped>\n    .dataframe tbody tr th:only-of-type {\n        vertical-align: middle;\n    }\n\n    .dataframe tbody tr th {\n        vertical-align: top;\n    }\n\n    .dataframe thead th {\n        text-align: right;\n    }\n</style>\n<table border=\"1\" class=\"dataframe\">\n  <thead>\n    <tr style=\"text-align: right;\">\n      <th></th>\n      <th>Assignment</th>\n      <th>Document Number</th>\n      <th>Business Area</th>\n      <th>Document Type</th>\n      <th>Document Date</th>\n      <th>Posting Date</th>\n      <th>Posting Key</th>\n      <th>Amount in local currency</th>\n      <th>Local Currency</th>\n      <th>Tax code</th>\n      <th>Clearing Document</th>\n      <th>Reference</th>\n      <th>Text</th>\n      <th>Cost Center</th>\n      <th>Profit Center</th>\n      <th>Site</th>\n      <th>Asset</th>\n      <th>G/L Account</th>\n    </tr>\n  </thead>\n  <tbody>\n    <tr>\n      <th>0</th>\n      <td>20160701</td>\n      <td>1009001720</td>\n      <td>NaN</td>\n      <td>KZ</td>\n      <td>01/07/2016</td>\n      <td>01/07/2016</td>\n      <td>50</td>\n      <td>-10,000.00</td>\n      <td>INR</td>\n      <td>NaN</td>\n      <td>NaN</td>\n      <td>NaN</td>\n      <td>Rent Deposit as per LOI</td>\n      <td>NaN</td>\n      <td>NaN</td>\n      <td>NaN</td>\n      <td>NaN</td>\n      <td>16200105</td>\n    </tr>\n    <tr>\n      <th>1</th>\n      <td>20160701</td>\n      <td>1009001830</td>\n      <td>NaN</td>\n      <td>KZ</td>\n      <td>01/07/2016</td>\n      <td>01/07/2016</td>\n      <td>50</td>\n      <td>-5,000.00</td>\n      <td>INR</td>\n      <td>NaN</td>\n      <td>NaN</td>\n      <td>NaN</td>\n      <td>NaN</td>\n      <td>NaN</td>\n      <td>NaN</td>\n      <td>NaN</td>\n      <td>NaN</td>\n      <td>16200105</td>\n    </tr>\n    <tr>\n      <th>2</th>\n      <td>20160701</td>\n      <td>2200202637</td>\n      <td>NaN</td>\n      <td>AB</td>\n      <td>01/07/2016</td>\n      <td>01/07/2016</td>\n      <td>50</td>\n      <td>-4,500.00</td>\n      <td>INR</td>\n      <td>NaN</td>\n      <td>NaN</td>\n      <td>NaN</td>\n      <td>Transportation Cost HSBCB4</td>\n      <td>NaN</td>\n      <td>NaN</td>\n      <td>NaN</td>\n      <td>NaN</td>\n      <td>16200105</td>\n    </tr>\n    <tr>\n      <th>3</th>\n      <td>20160701</td>\n      <td>2200202638</td>\n      <td>NaN</td>\n      <td>AB</td>\n      <td>01/07/2016</td>\n      <td>01/07/2016</td>\n      <td>50</td>\n      <td>-140.00</td>\n      <td>INR</td>\n      <td>NaN</td>\n      <td>NaN</td>\n      <td>NaN</td>\n      <td>Purchase of Room Freshner</td>\n      <td>NaN</td>\n      <td>NaN</td>\n      <td>NaN</td>\n      <td>NaN</td>\n      <td>16200105</td>\n    </tr>\n    <tr>\n      <th>4</th>\n      <td>20160704</td>\n      <td>1009001719</td>\n      <td>NaN</td>\n      <td>KZ</td>\n      <td>04/07/2016</td>\n      <td>04/07/2016</td>\n      <td>40</td>\n      <td>45,000.00</td>\n      <td>INR</td>\n      <td>NaN</td>\n      <td>NaN</td>\n      <td>NaN</td>\n      <td>NaN</td>\n      <td>NaN</td>\n      <td>NaN</td>\n      <td>NaN</td>\n      <td>NaN</td>\n      <td>16200105</td>\n    </tr>\n  </tbody>\n</table>\n</div>",
                        "text/plain": "  Assignment  Document Number  Business Area Document Type Document Date  \\\n0   20160701       1009001720            NaN            KZ    01/07/2016   \n1   20160701       1009001830            NaN            KZ    01/07/2016   \n2   20160701       2200202637            NaN            AB    01/07/2016   \n3   20160701       2200202638            NaN            AB    01/07/2016   \n4   20160704       1009001719            NaN            KZ    04/07/2016   \n\n  Posting Date  Posting Key Amount in local currency Local Currency  Tax code  \\\n0   01/07/2016           50               -10,000.00            INR       NaN   \n1   01/07/2016           50                -5,000.00            INR       NaN   \n2   01/07/2016           50                -4,500.00            INR       NaN   \n3   01/07/2016           50                  -140.00            INR       NaN   \n4   04/07/2016           40                45,000.00            INR       NaN   \n\n   Clearing Document Reference                        Text  Cost Center  \\\n0                NaN       NaN     Rent Deposit as per LOI          NaN   \n1                NaN       NaN                         NaN          NaN   \n2                NaN       NaN  Transportation Cost HSBCB4          NaN   \n3                NaN       NaN   Purchase of Room Freshner          NaN   \n4                NaN       NaN                         NaN          NaN   \n\n   Profit Center  Site  Asset  G/L Account  \n0            NaN   NaN    NaN     16200105  \n1            NaN   NaN    NaN     16200105  \n2            NaN   NaN    NaN     16200105  \n3            NaN   NaN    NaN     16200105  \n4            NaN   NaN    NaN     16200105  "
                    },
                    "execution_count": 2,
                    "metadata": {},
                    "output_type": "execute_result"
                }
            ],
            "source": "# The code was removed by Watson Studio for sharing."
        },
        {
            "cell_type": "code",
            "execution_count": null,
            "metadata": {},
            "outputs": [],
            "source": ""
        }
    ],
    "metadata": {
        "kernelspec": {
            "display_name": "Python 3.7",
            "language": "python",
            "name": "python3"
        },
        "language_info": {
            "codemirror_mode": {
                "name": "ipython",
                "version": 3
            },
            "file_extension": ".py",
            "mimetype": "text/x-python",
            "name": "python",
            "nbconvert_exporter": "python",
            "pygments_lexer": "ipython3",
            "version": "3.7.9"
        }
    },
    "nbformat": 4,
    "nbformat_minor": 1
}