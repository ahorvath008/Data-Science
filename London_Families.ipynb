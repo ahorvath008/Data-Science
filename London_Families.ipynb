{
  "nbformat": 4,
  "nbformat_minor": 0,
  "metadata": {
    "colab": {
      "name": "London Families.ipynb",
      "provenance": [],
      "collapsed_sections": [],
      "authorship_tag": "ABX9TyP4mim2JqsbWhq+a+s0t4Cu",
      "include_colab_link": true
    },
    "kernelspec": {
      "name": "python3",
      "display_name": "Python 3"
    }
  },
  "cells": [
    {
      "cell_type": "markdown",
      "metadata": {
        "id": "view-in-github",
        "colab_type": "text"
      },
      "source": [
        "<a href=\"https://colab.research.google.com/github/ahorvath008/Data-Science/blob/main/London_Families.ipynb\" target=\"_parent\"><img src=\"https://colab.research.google.com/assets/colab-badge.svg\" alt=\"Open In Colab\"/></a>"
      ]
    },
    {
      "cell_type": "markdown",
      "metadata": {
        "id": "2vhJIMVkpv9j"
      },
      "source": [
        "**Business case and project background**\r\n",
        "\r\n",
        "The analysis aims to assist young families to help identify areas in London, UK that would be best suited for potential property purchases.  Though preferences as to the most suitable residental areas certainly vary, we assume that a certain number of key \"requirements\" will be shared across families with young children.  \r\n",
        "\r\n",
        "London is made up of 32 boroughs with relatively important differences between areas.  As such, a newcomer (foreign or local) may find the analysis useful and pertinent. "
      ]
    },
    {
      "cell_type": "markdown",
      "metadata": {
        "id": "gwXhVXhXpoA7"
      },
      "source": [
        "**Data**\r\n",
        "\r\n",
        "The project will aim to rely on the following data sources:\r\n",
        "\r\n",
        "*   Foursquare API:  \r\n",
        "    The API will be used to identify areas with higher \r\n",
        "    number of child-friendly entertainment options,   \r\n",
        "    parks and malls. \r\n",
        "\r\n",
        "*   Primary School Database:\r\n",
        "    Primary schools in the UK are rated annually,data   \r\n",
        "    is published annually with a score. \r\n",
        "    (Source: Ofsted School ratings database)\r\n",
        "\r\n",
        "*   Economic Indicators:\r\n",
        "    Neighborhood economic indicators    \r\n",
        "    (Source: data.london.gov.uk)"
      ]
    }
  ]
}